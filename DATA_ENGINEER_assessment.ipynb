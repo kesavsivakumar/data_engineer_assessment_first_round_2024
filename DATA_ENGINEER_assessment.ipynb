{
  "cells": [
    {
      "cell_type": "markdown",
      "metadata": {
        "id": "view-in-github",
        "colab_type": "text"
      },
      "source": [
        "<a href=\"https://colab.research.google.com/github/kesavsivakumar/data_engineer_assessment_first_round_2024/blob/main/DATA_ENGINEER_assessment.ipynb\" target=\"_parent\"><img src=\"https://colab.research.google.com/assets/colab-badge.svg\" alt=\"Open In Colab\"/></a>"
      ]
    },
    {
      "cell_type": "code",
      "execution_count": 1,
      "metadata": {
        "id": "wKvvX1B18DUE"
      },
      "outputs": [],
      "source": [
        "###setting up spark in colab environment\n",
        "!apt-get install openjdk-8-jdk-headless -qq > /dev/null\n",
        "!wget -q https://archive.apache.org/dist/spark/spark-3.0.0/spark-3.0.0-bin-hadoop3.2.tgz\n",
        "!tar xf spark-3.0.0-bin-hadoop3.2.tgz\n",
        "!pip install -q findspark"
      ]
    },
    {
      "cell_type": "code",
      "execution_count": 2,
      "metadata": {
        "id": "5xulNDDB9JsW"
      },
      "outputs": [],
      "source": [
        "import os\n",
        "os.environ[\"JAVA_HOME\"] = \"/usr/lib/jvm/java-8-openjdk-amd64\"\n",
        "os.environ[\"SPARK_HOME\"] = \"/content/spark-3.0.0-bin-hadoop3.2\"\n",
        "os.environ[\"HADOOP_HOME\"] = os.environ[\"SPARK_HOME\"]"
      ]
    },
    {
      "cell_type": "code",
      "source": [
        "from google.colab import drive\n",
        "drive.mount('/content/drive')\n",
        "\n"
      ],
      "metadata": {
        "colab": {
          "base_uri": "https://localhost:8080/"
        },
        "id": "LckZLIzVMEwn",
        "outputId": "3c328aff-d84d-4358-93e1-661c92787fb2"
      },
      "execution_count": 3,
      "outputs": [
        {
          "output_type": "stream",
          "name": "stdout",
          "text": [
            "Mounted at /content/drive\n"
          ]
        }
      ]
    },
    {
      "cell_type": "code",
      "execution_count": 4,
      "metadata": {
        "colab": {
          "base_uri": "https://localhost:8080/"
        },
        "id": "igoHfgODA-ij",
        "outputId": "459b502b-c9d1-4f7b-e899-c4d8be44490a"
      },
      "outputs": [
        {
          "output_type": "stream",
          "name": "stdout",
          "text": [
            "Collecting pyspark\n",
            "  Downloading pyspark-3.5.1.tar.gz (317.0 MB)\n",
            "\u001b[2K     \u001b[90m━━━━━━━━━━━━━━━━━━━━━━━━━━━━━━━━━━━━━━━━\u001b[0m \u001b[32m317.0/317.0 MB\u001b[0m \u001b[31m2.7 MB/s\u001b[0m eta \u001b[36m0:00:00\u001b[0m\n",
            "\u001b[?25h  Preparing metadata (setup.py) ... \u001b[?25l\u001b[?25hdone\n",
            "Requirement already satisfied: py4j==0.10.9.7 in /usr/local/lib/python3.10/dist-packages (from pyspark) (0.10.9.7)\n",
            "Building wheels for collected packages: pyspark\n",
            "  Building wheel for pyspark (setup.py) ... \u001b[?25l\u001b[?25hdone\n",
            "  Created wheel for pyspark: filename=pyspark-3.5.1-py2.py3-none-any.whl size=317488491 sha256=4be98bb0bc4c66ff3da76c3ba70397b74c5ed717ab67f0f91825ab7d33a3c265\n",
            "  Stored in directory: /root/.cache/pip/wheels/80/1d/60/2c256ed38dddce2fdd93be545214a63e02fbd8d74fb0b7f3a6\n",
            "Successfully built pyspark\n",
            "Installing collected packages: pyspark\n",
            "Successfully installed pyspark-3.5.1\n"
          ]
        }
      ],
      "source": [
        "#!pip install pyspark"
      ]
    },
    {
      "cell_type": "code",
      "execution_count": 5,
      "metadata": {
        "id": "IVkRivsg9LlT"
      },
      "outputs": [],
      "source": [
        "import findspark\n",
        "findspark.init()"
      ]
    },
    {
      "cell_type": "code",
      "execution_count": 6,
      "metadata": {
        "colab": {
          "base_uri": "https://localhost:8080/",
          "height": 35
        },
        "id": "tMRUI79C9Lod",
        "outputId": "6c83b3d5-1757-4ff0-8a61-dea8f8bac6d1"
      },
      "outputs": [
        {
          "output_type": "execute_result",
          "data": {
            "text/plain": [
              "'/content/spark-3.0.0-bin-hadoop3.2'"
            ],
            "application/vnd.google.colaboratory.intrinsic+json": {
              "type": "string"
            }
          },
          "metadata": {},
          "execution_count": 6
        }
      ],
      "source": [
        "findspark.find()"
      ]
    },
    {
      "cell_type": "code",
      "execution_count": 8,
      "metadata": {
        "id": "634fzbsj9Lrr"
      },
      "outputs": [],
      "source": [
        "from pyspark.sql import SparkSession\n",
        "##creating the spark session\n",
        "spark = SparkSession.builder.master(\"local\").appName(\"DE_assignment\").config('spark.ui.port', '4050').getOrCreate()"
      ]
    },
    {
      "cell_type": "code",
      "execution_count": 12,
      "metadata": {
        "id": "8OaLTljN8XBL"
      },
      "outputs": [],
      "source": [
        "##read json file to rdd\n",
        "df_l1 = spark.read.option(\"multiline\",\"true\").json(\"/content/user_click_data.json.json\")"
      ]
    },
    {
      "cell_type": "code",
      "execution_count": 13,
      "metadata": {
        "id": "OeYE4mLt9FIT",
        "colab": {
          "base_uri": "https://localhost:8080/"
        },
        "outputId": "3a41e5a4-412b-4b40-86c1-c51ffbc144fe"
      },
      "outputs": [
        {
          "output_type": "stream",
          "name": "stdout",
          "text": [
            "+--------------+------------+--------------+-------+------+---------------+-------------------+--------------------+-------+\n",
            "|       browser|        city|click_event_id|country|device|     ip_address|          timestamp|                 url|user_id|\n",
            "+--------------+------------+--------------+-------+------+---------------+-------------------+--------------------+-------+\n",
            "|Firefox Mobile|      Jaipur|           843|  India|Mobile| 240.246.150.88|2023-05-20 08:45:39|www.globalmart.co...| 525707|\n",
            "|Firefox Mobile|      Jaipur|           844|  India|Mobile| 240.246.150.88|2023-05-20 08:49:34|www.globalmart.co...| 525707|\n",
            "|        Safari|Philadelphia|           905|    USA|Mobile| 46.147.149.245|2023-05-20 08:51:44|www.globalmart.co...| 525679|\n",
            "|        Safari|Philadelphia|           906|    USA|Mobile| 46.147.149.245|2023-05-20 08:56:27|www.globalmart.co...| 525679|\n",
            "|        Safari|    Zaragoza|             2|  Spain|Mobile|  59.243.217.35|2023-05-20 08:33:31|www.globalmart.co...| 525616|\n",
            "|        Safari|    Zaragoza|             3|  Spain|Mobile|  59.243.217.35|2023-05-20 08:35:48|www.globalmart.co...| 525616|\n",
            "|        Safari|     Chicago|           764|    USA|Laptop| 81.203.192.167|2023-05-20 08:57:50|www.globalmart.co...| 525666|\n",
            "|        Safari|     Chicago|           765|    USA|Laptop| 81.203.192.167|2023-05-20 09:02:15|www.globalmart.co...| 525666|\n",
            "|Firefox Mobile|  Birmingham|           617|England|Mobile| 50.250.148.197|2023-05-20 08:37:52|www.globalmart.co...| 525709|\n",
            "|Firefox Mobile|  Birmingham|           618|England|Mobile| 50.250.148.197|2023-05-20 08:41:07|www.globalmart.co...| 525709|\n",
            "|Firefox Mobile|  Birmingham|           619|England|Mobile| 50.250.148.197|2023-05-20 08:46:48|www.globalmart.co...| 525709|\n",
            "|Firefox Mobile|  Birmingham|           620|England|Mobile| 50.250.148.197|2023-05-20 08:52:14|www.globalmart.co...| 525709|\n",
            "|Firefox Mobile|  Birmingham|           621|England|Mobile| 50.250.148.197|2023-05-20 08:55:34|www.globalmart.co...| 525709|\n",
            "|Firefox Mobile|   Liverpool|           198|England|Mobile| 235.220.151.90|2023-05-20 08:27:51|www.globalmart.co...| 525623|\n",
            "|Firefox Mobile|   Liverpool|           199|England|Mobile| 235.220.151.90|2023-05-20 08:30:12|www.globalmart.co...| 525623|\n",
            "|Firefox Mobile|   Liverpool|           201|England|Mobile| 235.220.151.90|2023-05-20 08:40:57|www.globalmart.co...| 525623|\n",
            "|Firefox Mobile|   Liverpool|           203|England|Mobile| 235.220.151.90|2023-05-20 08:50:46|www.globalmart.co...| 525623|\n",
            "| Chrome Mobile|   Newcastle|           564|England|Mobile|150.201.181.200|2023-05-20 08:36:22|www.globalmart.co...| 525595|\n",
            "| Chrome Mobile|   Newcastle|           565|England|Mobile|150.201.181.200|2023-05-20 08:43:21|www.globalmart.co...| 525595|\n",
            "| Chrome Mobile|   Newcastle|           566|England|Mobile|150.201.181.200|2023-05-20 08:45:23|www.globalmart.co...| 525595|\n",
            "+--------------+------------+--------------+-------+------+---------------+-------------------+--------------------+-------+\n",
            "only showing top 20 rows\n",
            "\n"
          ]
        }
      ],
      "source": [
        "df_l1.show()"
      ]
    },
    {
      "cell_type": "code",
      "execution_count": 14,
      "metadata": {
        "id": "IvmVtYoPB55k",
        "colab": {
          "base_uri": "https://localhost:8080/"
        },
        "outputId": "5014c882-5397-4675-a8bf-9fc603ca83b5"
      },
      "outputs": [
        {
          "output_type": "execute_result",
          "data": {
            "text/plain": [
              "1004"
            ]
          },
          "metadata": {},
          "execution_count": 14
        }
      ],
      "source": [
        "df_l1.count()"
      ]
    },
    {
      "cell_type": "code",
      "execution_count": 15,
      "metadata": {
        "id": "Q5iwPoeLB_8b",
        "colab": {
          "base_uri": "https://localhost:8080/"
        },
        "outputId": "f0c46b2b-1b8e-456a-d330-37107ebcd488"
      },
      "outputs": [
        {
          "output_type": "execute_result",
          "data": {
            "text/plain": [
              "[('browser', 'string'),\n",
              " ('city', 'string'),\n",
              " ('click_event_id', 'bigint'),\n",
              " ('country', 'string'),\n",
              " ('device', 'string'),\n",
              " ('ip_address', 'string'),\n",
              " ('timestamp', 'string'),\n",
              " ('url', 'string'),\n",
              " ('user_id', 'string')]"
            ]
          },
          "metadata": {},
          "execution_count": 15
        }
      ],
      "source": [
        "df_l1.dtypes"
      ]
    },
    {
      "cell_type": "markdown",
      "metadata": {
        "id": "p1I7a7GvCoVR"
      },
      "source": [
        "2.\tThe final output DataFrame should contain the following:\n",
        "\n",
        "\n",
        "*   The average time (in minutes) users from each country spent on each web page (URL) for each date.\n",
        "*   The total number of unique users from each country who visited each web page (URL) for each date.\n",
        "\n",
        "*   The total number of clicks each web page (URL) garnered from each country for each date.\n",
        "\n",
        "\n",
        "\n"
      ]
    },
    {
      "cell_type": "code",
      "execution_count": 16,
      "metadata": {
        "id": "fwP9TZFQCRIj"
      },
      "outputs": [],
      "source": [
        "from pyspark.sql.functions import *"
      ]
    },
    {
      "cell_type": "code",
      "execution_count": 18,
      "metadata": {
        "id": "P9ZArAFdEqfE"
      },
      "outputs": [],
      "source": [
        "df_l1.createOrReplaceTempView(\"df\")"
      ]
    },
    {
      "cell_type": "code",
      "execution_count": 59,
      "metadata": {
        "id": "eqD8coneGdII"
      },
      "outputs": [],
      "source": [
        "qry2 =\"Select country ,url,event_date , count() over(partition by url,country,event_date) as click_count ,avg(minutes_spent) over (partition by  country , url,event_date) as average_minutes_spent from (select distinct user_id,url,country ,cast(timestamp as DATE) as event_date, (unix_timestamp(max(timestamp) over(partition by user_id,URL,city,country,ip_address,device,browser))  - unix_timestamp( min(timestamp) over(partition by user_id,URL,city,country,ip_address,device,browser) ))/60  as minutes_spent from df)x\"\n",
        "qry_str_1 ='select distinct user_id,country,url,CAST(timestamp as date) as event_date ,(unix_timestamp(max(timestamp) over(partition by user_id))       - unix_timestamp( min(timestamp) over(partition by user_id) ))/60  as average_minutes_spent,count( user_id) over (partition by country,url,event_Date) as unique_user_count  from df '\n",
        "fin1 = spark.sql(qry2)"
      ]
    },
    {
      "cell_type": "code",
      "execution_count": 60,
      "metadata": {
        "id": "MfBbm-XdHJtx",
        "colab": {
          "base_uri": "https://localhost:8080/"
        },
        "outputId": "b2746282-26b7-4c43-abfb-56c8bae030f3"
      },
      "outputs": [
        {
          "output_type": "stream",
          "name": "stdout",
          "text": [
            "+-------+--------------------+----------+-----------+---------------------+\n",
            "|country|                 url|event_date|click_count|average_minutes_spent|\n",
            "+-------+--------------------+----------+-----------+---------------------+\n",
            "|  India|www.globalmart.co...|2023-05-20|          0|    2.904166666666667|\n",
            "|  India|www.globalmart.co...|2023-05-20|          0|    2.904166666666667|\n",
            "|  India|www.globalmart.co...|2023-05-20|          0|    2.904166666666667|\n",
            "|  India|www.globalmart.co...|2023-05-20|          0|    2.904166666666667|\n",
            "|    USA|www.globalmart.co...|2023-05-20|          0|                  0.0|\n",
            "|    USA|www.globalmart.co...|2023-05-20|          0|                  0.0|\n",
            "|    USA|www.globalmart.co...|2023-05-20|          0|                  0.0|\n",
            "|    USA|www.globalmart.co...|2023-05-20|          0|                  0.0|\n",
            "|  Italy|www.globalmart.co...|2023-05-20|          0|                  0.0|\n",
            "|  Italy|www.globalmart.co...|2023-05-20|          0|                  0.0|\n",
            "|  Italy|www.globalmart.co...|2023-05-20|          0|                  0.0|\n",
            "|  India|www.globalmart.co...|2023-05-20|          0|                  0.0|\n",
            "|  Spain|www.globalmart.co...|2023-05-20|          0|                  0.0|\n",
            "|  Spain|www.globalmart.co...|2023-05-20|          0|                  0.0|\n",
            "|  Spain|www.globalmart.co...|2023-05-20|          0|                  0.0|\n",
            "|  Spain|www.globalmart.co...|2023-05-20|          0|                  0.0|\n",
            "|  Spain|www.globalmart.co...|2023-05-20|          0|                  0.0|\n",
            "|England|www.globalmart.co...|2023-05-20|          0|                  0.0|\n",
            "|England|www.globalmart.co...|2023-05-20|          0|                  0.0|\n",
            "|England|www.globalmart.co...|2023-05-20|          0|                  0.0|\n",
            "+-------+--------------------+----------+-----------+---------------------+\n",
            "only showing top 20 rows\n",
            "\n"
          ]
        }
      ],
      "source": [
        "fin1.show()"
      ]
    },
    {
      "cell_type": "code",
      "execution_count": 44,
      "metadata": {
        "colab": {
          "base_uri": "https://localhost:8080/"
        },
        "id": "1Nj230cCHIZF",
        "outputId": "94ef0d06-aa52-4fad-a236-295c14f746d2"
      },
      "outputs": [
        {
          "output_type": "execute_result",
          "data": {
            "text/plain": [
              "950"
            ]
          },
          "metadata": {},
          "execution_count": 44
        }
      ],
      "source": [
        "fin1.count()\n"
      ]
    },
    {
      "cell_type": "code",
      "execution_count": 79,
      "metadata": {
        "id": "OEUXRS14AKgg"
      },
      "outputs": [],
      "source": [
        "qry2=     \"\"\" select distinct country,\n",
        "  URL,event_date,avg(minutes_spent) over (partition by url,country) as average_minutes_spent  from\n",
        "  ( select distinct user_id,country,url,cast(timestamp as DATE) as event_date,\n",
        " (unix_timestamp(max(timestamp) over(partition by user_id,URL,country,cast(timestamp as DATE)))\n",
        " - unix_timestamp( min(timestamp) over(partition by user_id,URL,country,cast(timestamp as DATE)) ))/60  as minutes_spent from df) x \"\"\""
      ]
    },
    {
      "cell_type": "code",
      "source": [
        "fin2= spark.sql(qry2)"
      ],
      "metadata": {
        "id": "tJ7HhF67gYsb"
      },
      "execution_count": 80,
      "outputs": []
    },
    {
      "cell_type": "code",
      "source": [
        "fin2.show()"
      ],
      "metadata": {
        "colab": {
          "base_uri": "https://localhost:8080/"
        },
        "id": "5m4f_RxThNca",
        "outputId": "a8f8f80c-af1c-44d8-8395-187c091621cc"
      },
      "execution_count": 81,
      "outputs": [
        {
          "output_type": "stream",
          "name": "stdout",
          "text": [
            "+-------+--------------------+----------+---------------------+\n",
            "|country|                 URL|event_date|average_minutes_spent|\n",
            "+-------+--------------------+----------+---------------------+\n",
            "|    USA|www.globalmart.co...|2023-05-20|                  0.0|\n",
            "|    USA|www.globalmart.co...|2023-05-20|   2.6166666666666667|\n",
            "|  India|www.globalmart.co...|2023-05-20|                  0.0|\n",
            "|  Spain|www.globalmart.co...|2023-05-20|                  0.0|\n",
            "|  Italy|www.globalmart.co...|2023-05-20|                  0.0|\n",
            "|  Spain|www.globalmart.co...|2023-05-20|                  0.0|\n",
            "|  India|www.globalmart.co...|2023-05-20|                  0.0|\n",
            "|  Italy|www.globalmart.co...|2023-05-20|                  0.0|\n",
            "|  India|www.globalmart.co...|2023-05-20|                  0.0|\n",
            "|    USA|www.globalmart.co...|2023-05-20|                  0.0|\n",
            "|England|www.globalmart.co...|2023-05-20|                  0.0|\n",
            "|  Spain|www.globalmart.co...|2023-05-20|                  0.0|\n",
            "|  Spain|www.globalmart.co...|2023-05-20|                  0.0|\n",
            "|  Italy|www.globalmart.co...|2023-05-20|                  0.0|\n",
            "|  Spain|www.globalmart.co...|2023-05-20|                  0.0|\n",
            "|  Italy|www.globalmart.co...|2023-05-20|                  0.0|\n",
            "|England|www.globalmart.co...|2023-05-20|                  0.0|\n",
            "|  Italy|www.globalmart.co...|2023-05-20|                  0.0|\n",
            "|  India|www.globalmart.co...|2023-05-20|                  0.0|\n",
            "|  India|www.globalmart.co...|2023-05-20|                  0.0|\n",
            "+-------+--------------------+----------+---------------------+\n",
            "only showing top 20 rows\n",
            "\n"
          ]
        }
      ]
    },
    {
      "cell_type": "code",
      "source": [
        "fin2.count()"
      ],
      "metadata": {
        "colab": {
          "base_uri": "https://localhost:8080/"
        },
        "id": "pOhlw4bTh5ts",
        "outputId": "467e42d2-d606-4bac-967a-f3dd8baa747c"
      },
      "execution_count": 82,
      "outputs": [
        {
          "output_type": "execute_result",
          "data": {
            "text/plain": [
              "241"
            ]
          },
          "metadata": {},
          "execution_count": 82
        }
      ]
    },
    {
      "cell_type": "code",
      "source": [
        "qry3=     \"\"\" select distinct country,\n",
        "  URL,event_date,count(user_id) over (partition by url,country,event_date) as unique_user_count  from\n",
        "  ( select distinct user_id,country,url,cast(timestamp as DATE) as event_date from df) x \"\"\""
      ],
      "metadata": {
        "id": "qOPSn6Ogh79s"
      },
      "execution_count": 104,
      "outputs": []
    },
    {
      "cell_type": "code",
      "source": [
        "fin3 = spark.sql(qry3)"
      ],
      "metadata": {
        "id": "6uckFhUBi2-8"
      },
      "execution_count": 105,
      "outputs": []
    },
    {
      "cell_type": "code",
      "source": [
        "fin3.show()"
      ],
      "metadata": {
        "colab": {
          "base_uri": "https://localhost:8080/"
        },
        "id": "l8Ba4SXEi6GV",
        "outputId": "60321ae5-c696-4e76-b3b0-f201045273e5"
      },
      "execution_count": 106,
      "outputs": [
        {
          "output_type": "stream",
          "name": "stdout",
          "text": [
            "+-------+--------------------+----------+-----------------+\n",
            "|country|                 URL|event_date|unique_user_count|\n",
            "+-------+--------------------+----------+-----------------+\n",
            "|  India|www.globalmart.co...|2023-05-20|                4|\n",
            "|    USA|www.globalmart.co...|2023-05-20|                4|\n",
            "|  Italy|www.globalmart.co...|2023-05-20|                3|\n",
            "|  India|www.globalmart.co...|2023-05-20|                1|\n",
            "|  Spain|www.globalmart.co...|2023-05-20|                3|\n",
            "|  Spain|www.globalmart.co...|2023-05-20|                2|\n",
            "|    USA|www.globalmart.co...|2023-05-20|                4|\n",
            "|  India|www.globalmart.co...|2023-05-20|                9|\n",
            "|England|www.globalmart.co...|2023-05-20|                2|\n",
            "|England|www.globalmart.co...|2023-05-20|                4|\n",
            "|  India|www.globalmart.co...|2023-05-20|                4|\n",
            "|  India|www.globalmart.co...|2023-05-20|                5|\n",
            "|    USA|www.globalmart.co...|2023-05-20|                1|\n",
            "|  India|www.globalmart.co...|2023-05-20|                1|\n",
            "|    USA|www.globalmart.co...|2023-05-20|                1|\n",
            "|England|www.globalmart.co...|2023-05-20|                2|\n",
            "|  India|www.globalmart.co...|2023-05-20|                3|\n",
            "|  Italy|www.globalmart.co...|2023-05-20|                3|\n",
            "|  Italy|www.globalmart.co...|2023-05-20|                6|\n",
            "|  India|www.globalmart.co...|2023-05-20|                2|\n",
            "+-------+--------------------+----------+-----------------+\n",
            "only showing top 20 rows\n",
            "\n"
          ]
        }
      ]
    },
    {
      "cell_type": "code",
      "source": [
        "fin3.count()"
      ],
      "metadata": {
        "colab": {
          "base_uri": "https://localhost:8080/"
        },
        "id": "5oi9Vblyi7AC",
        "outputId": "b290c8d5-0060-44db-815a-ea0b4708380a"
      },
      "execution_count": 107,
      "outputs": [
        {
          "output_type": "execute_result",
          "data": {
            "text/plain": [
              "241"
            ]
          },
          "metadata": {},
          "execution_count": 107
        }
      ]
    },
    {
      "cell_type": "code",
      "source": [
        "qry4=     \"\"\" select distinct  country,\n",
        "  URL,event_date,count(user_id) over (partition by url,country,event_date) as click_count  from\n",
        "  ( select  user_id,country,url,cast(timestamp as DATE) as event_date from df) x \"\"\""
      ],
      "metadata": {
        "id": "pbkjquWYi8JC"
      },
      "execution_count": 108,
      "outputs": []
    },
    {
      "cell_type": "code",
      "source": [
        "fin4 = spark.sql(qry4)\n"
      ],
      "metadata": {
        "id": "3lyq2V9bja1Y"
      },
      "execution_count": 109,
      "outputs": []
    },
    {
      "cell_type": "code",
      "source": [
        "fin4.show()"
      ],
      "metadata": {
        "colab": {
          "base_uri": "https://localhost:8080/"
        },
        "id": "-CD7q7NIjiLp",
        "outputId": "ad801348-15b5-44d2-d495-aa1ee14ab38e"
      },
      "execution_count": 110,
      "outputs": [
        {
          "output_type": "stream",
          "name": "stdout",
          "text": [
            "+-------+--------------------+----------+-----------+\n",
            "|country|                 URL|event_date|click_count|\n",
            "+-------+--------------------+----------+-----------+\n",
            "|  India|www.globalmart.co...|2023-05-20|          6|\n",
            "|    USA|www.globalmart.co...|2023-05-20|          4|\n",
            "|  Italy|www.globalmart.co...|2023-05-20|          3|\n",
            "|  India|www.globalmart.co...|2023-05-20|          1|\n",
            "|  Spain|www.globalmart.co...|2023-05-20|          3|\n",
            "|  Spain|www.globalmart.co...|2023-05-20|          2|\n",
            "|    USA|www.globalmart.co...|2023-05-20|          4|\n",
            "|  India|www.globalmart.co...|2023-05-20|         11|\n",
            "|England|www.globalmart.co...|2023-05-20|          2|\n",
            "|England|www.globalmart.co...|2023-05-20|          4|\n",
            "|  India|www.globalmart.co...|2023-05-20|          4|\n",
            "|  India|www.globalmart.co...|2023-05-20|          5|\n",
            "|    USA|www.globalmart.co...|2023-05-20|          1|\n",
            "|  India|www.globalmart.co...|2023-05-20|          1|\n",
            "|    USA|www.globalmart.co...|2023-05-20|          1|\n",
            "|England|www.globalmart.co...|2023-05-20|          2|\n",
            "|  India|www.globalmart.co...|2023-05-20|          4|\n",
            "|  Italy|www.globalmart.co...|2023-05-20|          3|\n",
            "|  Italy|www.globalmart.co...|2023-05-20|          6|\n",
            "|  India|www.globalmart.co...|2023-05-20|          2|\n",
            "+-------+--------------------+----------+-----------+\n",
            "only showing top 20 rows\n",
            "\n"
          ]
        }
      ]
    },
    {
      "cell_type": "code",
      "source": [
        "fin4.count()"
      ],
      "metadata": {
        "colab": {
          "base_uri": "https://localhost:8080/"
        },
        "id": "qGgpzHqMjjPL",
        "outputId": "bd545505-ee5e-49d3-fdbf-a37423536461"
      },
      "execution_count": 111,
      "outputs": [
        {
          "output_type": "execute_result",
          "data": {
            "text/plain": [
              "241"
            ]
          },
          "metadata": {},
          "execution_count": 111
        }
      ]
    },
    {
      "cell_type": "code",
      "source": [
        "fin_df = fin2.join(fin3,  (fin2.country == fin3.country) & (fin2.URL == fin3.URL) & (fin2.event_date == fin3.event_date),\n",
        "               \"inner\").select (fin2.country,fin2.URL,fin2.event_date,fin2.average_minutes_spent,fin3.unique_user_count)"
      ],
      "metadata": {
        "id": "6t15OEoojk1-"
      },
      "execution_count": 134,
      "outputs": []
    },
    {
      "cell_type": "code",
      "source": [
        "fin_df.show()"
      ],
      "metadata": {
        "colab": {
          "base_uri": "https://localhost:8080/"
        },
        "id": "ARvSVwxokVXW",
        "outputId": "d5d55771-db32-420c-a611-b9862cbcf7b7"
      },
      "execution_count": 135,
      "outputs": [
        {
          "output_type": "stream",
          "name": "stdout",
          "text": [
            "+-------+--------------------+----------+---------------------+-----------------+\n",
            "|country|                 URL|event_date|average_minutes_spent|unique_user_count|\n",
            "+-------+--------------------+----------+---------------------+-----------------+\n",
            "|  India|www.globalmart.co...|2023-05-20|    6.816666666666666|                4|\n",
            "|    USA|www.globalmart.co...|2023-05-20|                  0.0|                4|\n",
            "|  Italy|www.globalmart.co...|2023-05-20|                  0.0|                3|\n",
            "|  India|www.globalmart.co...|2023-05-20|                  0.0|                1|\n",
            "|  Spain|www.globalmart.co...|2023-05-20|                  0.0|                3|\n",
            "|  Spain|www.globalmart.co...|2023-05-20|                  0.0|                2|\n",
            "|    USA|www.globalmart.co...|2023-05-20|                  0.0|                4|\n",
            "|  India|www.globalmart.co...|2023-05-20|   3.5500000000000003|                9|\n",
            "|England|www.globalmart.co...|2023-05-20|                  0.0|                2|\n",
            "|England|www.globalmart.co...|2023-05-20|                  0.0|                4|\n",
            "|  India|www.globalmart.co...|2023-05-20|                  0.0|                4|\n",
            "|  India|www.globalmart.co...|2023-05-20|                  0.0|                5|\n",
            "|    USA|www.globalmart.co...|2023-05-20|                  0.0|                1|\n",
            "|  India|www.globalmart.co...|2023-05-20|                  0.0|                1|\n",
            "|    USA|www.globalmart.co...|2023-05-20|                  0.0|                1|\n",
            "|England|www.globalmart.co...|2023-05-20|                  0.0|                2|\n",
            "|  India|www.globalmart.co...|2023-05-20|   1.8111111111111111|                3|\n",
            "|  Italy|www.globalmart.co...|2023-05-20|                  0.0|                3|\n",
            "|  Italy|www.globalmart.co...|2023-05-20|                  0.0|                6|\n",
            "|  India|www.globalmart.co...|2023-05-20|                  0.0|                2|\n",
            "+-------+--------------------+----------+---------------------+-----------------+\n",
            "only showing top 20 rows\n",
            "\n"
          ]
        }
      ]
    },
    {
      "cell_type": "code",
      "source": [
        "fin_df.count()"
      ],
      "metadata": {
        "colab": {
          "base_uri": "https://localhost:8080/"
        },
        "id": "PZsU_ZQMmodH",
        "outputId": "47313a6a-4f05-4586-aa1a-fbe151bbf5d0"
      },
      "execution_count": 136,
      "outputs": [
        {
          "output_type": "execute_result",
          "data": {
            "text/plain": [
              "241"
            ]
          },
          "metadata": {},
          "execution_count": 136
        }
      ]
    },
    {
      "cell_type": "code",
      "source": [
        "fin_df = fin_df.join(fin4,  (fin_df.country == fin4.country) & (fin_df.URL == fin4.URL) & (fin_df.event_date == fin4.event_date),\n",
        "               \"inner\").select (fin_df.country,fin_df.URL,fin_df.event_date,fin_df.average_minutes_spent,fin_df.unique_user_count,fin4.click_count)"
      ],
      "metadata": {
        "id": "STf9pGvMpREk"
      },
      "execution_count": 138,
      "outputs": []
    },
    {
      "cell_type": "code",
      "source": [
        "fin_df.show()"
      ],
      "metadata": {
        "colab": {
          "base_uri": "https://localhost:8080/"
        },
        "id": "TXt5KzHypmlR",
        "outputId": "b0bae777-4c48-4c09-99f3-877fbc29d96e"
      },
      "execution_count": 140,
      "outputs": [
        {
          "output_type": "stream",
          "name": "stdout",
          "text": [
            "+-------+--------------------+----------+---------------------+-----------------+-----------+\n",
            "|country|                 URL|event_date|average_minutes_spent|unique_user_count|click_count|\n",
            "+-------+--------------------+----------+---------------------+-----------------+-----------+\n",
            "|  India|www.globalmart.co...|2023-05-20|    6.816666666666666|                4|          6|\n",
            "|    USA|www.globalmart.co...|2023-05-20|                  0.0|                4|          4|\n",
            "|  Italy|www.globalmart.co...|2023-05-20|                  0.0|                3|          3|\n",
            "|  India|www.globalmart.co...|2023-05-20|                  0.0|                1|          1|\n",
            "|  Spain|www.globalmart.co...|2023-05-20|                  0.0|                3|          3|\n",
            "|  Spain|www.globalmart.co...|2023-05-20|                  0.0|                2|          2|\n",
            "|    USA|www.globalmart.co...|2023-05-20|                  0.0|                4|          4|\n",
            "|  India|www.globalmart.co...|2023-05-20|   3.5500000000000003|                9|         11|\n",
            "|England|www.globalmart.co...|2023-05-20|                  0.0|                2|          2|\n",
            "|England|www.globalmart.co...|2023-05-20|                  0.0|                4|          4|\n",
            "|  India|www.globalmart.co...|2023-05-20|                  0.0|                4|          4|\n",
            "|  India|www.globalmart.co...|2023-05-20|                  0.0|                5|          5|\n",
            "|    USA|www.globalmart.co...|2023-05-20|                  0.0|                1|          1|\n",
            "|  India|www.globalmart.co...|2023-05-20|                  0.0|                1|          1|\n",
            "|    USA|www.globalmart.co...|2023-05-20|                  0.0|                1|          1|\n",
            "|England|www.globalmart.co...|2023-05-20|                  0.0|                2|          2|\n",
            "|  India|www.globalmart.co...|2023-05-20|   1.8111111111111111|                3|          4|\n",
            "|  Italy|www.globalmart.co...|2023-05-20|                  0.0|                3|          3|\n",
            "|  Italy|www.globalmart.co...|2023-05-20|                  0.0|                6|          6|\n",
            "|  India|www.globalmart.co...|2023-05-20|                  0.0|                2|          2|\n",
            "+-------+--------------------+----------+---------------------+-----------------+-----------+\n",
            "only showing top 20 rows\n",
            "\n"
          ]
        }
      ]
    },
    {
      "cell_type": "code",
      "source": [
        "fin_df.count()"
      ],
      "metadata": {
        "colab": {
          "base_uri": "https://localhost:8080/"
        },
        "id": "JUzUjWtdpmo5",
        "outputId": "3aa611e2-e427-4f4b-e182-172b1f5cabde"
      },
      "execution_count": 141,
      "outputs": [
        {
          "output_type": "execute_result",
          "data": {
            "text/plain": [
              "241"
            ]
          },
          "metadata": {},
          "execution_count": 141
        }
      ]
    },
    {
      "cell_type": "code",
      "source": [
        "x = fin_df.toPandas()"
      ],
      "metadata": {
        "id": "t5SSOi95mtMn"
      },
      "execution_count": 143,
      "outputs": []
    },
    {
      "cell_type": "code",
      "source": [
        "x.to_csv('sample.csv')"
      ],
      "metadata": {
        "id": "ppE5XqgYm8Zk"
      },
      "execution_count": 144,
      "outputs": []
    },
    {
      "cell_type": "code",
      "source": [],
      "metadata": {
        "id": "a-xz_CJzp2Sx"
      },
      "execution_count": null,
      "outputs": []
    }
  ],
  "metadata": {
    "colab": {
      "provenance": [],
      "authorship_tag": "ABX9TyOjzGvMy2LRssboBIDvDvAO",
      "include_colab_link": true
    },
    "kernelspec": {
      "display_name": "Python 3",
      "name": "python3"
    },
    "language_info": {
      "name": "python"
    }
  },
  "nbformat": 4,
  "nbformat_minor": 0
}